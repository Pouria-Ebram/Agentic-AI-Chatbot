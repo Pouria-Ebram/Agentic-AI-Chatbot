{
 "cells": [
  {
   "cell_type": "markdown",
   "id": "02be218c",
   "metadata": {},
   "source": [
    "# Building Agentic AI Chatbot Using LangGraph\n",
    "\n",
    "Here we will build an agentic AI chatbot that can use multiple tools to answer user queries.\n",
    "\n",
    "## Tools\n",
    "\n",
    "We will use the following tools:\n",
    "\n",
    "- `arxiv`: To search for papers on arxiv.\n",
    "- `wikipedia`: To search for information on Wikipedia.\n",
    "- `tavily`: To search for information on Tavily.\n",
    "\n",
    "## LLM\n",
    "\n",
    "we will use `qwen-qwq-32b` model from Groq."
   ]
  },
  {
   "cell_type": "markdown",
   "id": "5e5e6f2c",
   "metadata": {},
   "source": [
    "## Imports"
   ]
  },
  {
   "cell_type": "code",
   "execution_count": 1,
   "id": "ca3db08b",
   "metadata": {},
   "outputs": [],
   "source": [
    "## tools\n",
    "\n",
    "from langchain_community.tools import ArxivQueryRun, WikipediaQueryRun\n",
    "from langchain_community.utilities import WikipediaAPIWrapper, ArxivAPIWrapper\n",
    "# Tavily search tool\n",
    "from langchain_community.tools.tavily_search import TavilySearchResults\n",
    "from langchain_groq import ChatGroq\n",
    "\n",
    "from dotenv import load_dotenv\n",
    "load_dotenv()\n",
    "\n",
    "import os\n",
    "\n",
    "os.environ[\"TAVILY_API_KEY\"] = os.getenv(\"TAVILY_API_KEY\")\n",
    "os.environ[\"GROQ_API_KEY\"] = os.getenv(\"GROQ_API_KEY\")\n",
    "\n",
    "# Initialize the LLM Model\n",
    "llm = ChatGroq(model=\"qwen-qwq-32b\")"
   ]
  },
  {
   "cell_type": "code",
   "execution_count": 2,
   "id": "61454be2",
   "metadata": {},
   "outputs": [
    {
     "name": "stdout",
     "output_type": "stream",
     "text": [
      "arxiv\n"
     ]
    }
   ],
   "source": [
    "#arxiv tool\n",
    "api_wrapper_arxiv=ArxivAPIWrapper(top_k_results=2,doc_content_chars_max=500)\n",
    "arxiv=ArxivQueryRun(api_wrapper=api_wrapper_arxiv,description=\"Query arxiv papers\")\n",
    "print(arxiv.name)"
   ]
  },
  {
   "cell_type": "code",
   "execution_count": 3,
   "id": "68764aef",
   "metadata": {},
   "outputs": [
    {
     "data": {
      "text/plain": [
       "\"Published: 2024-07-22\\nTitle: Attention Is All You Need But You Don't Need All Of It For Inference of Large Language Models\\nAuthors: Georgy Tyukin, Gbetondji J-S Dovonon, Jean Kaddour, Pasquale Minervini\\nSummary: The inference demand for LLMs has skyrocketed in recent months, and serving\\nmodels with low latencies remains challenging due to the quadratic input length\\ncomplexity of the attention layers. In this work, we investigate the effect of\\ndropping MLP and attention layers at inference time o\""
      ]
     },
     "execution_count": 3,
     "metadata": {},
     "output_type": "execute_result"
    }
   ],
   "source": [
    "arxiv.invoke(\"Attention is all you need\")"
   ]
  },
  {
   "cell_type": "code",
   "execution_count": 6,
   "id": "0e4ab827",
   "metadata": {},
   "outputs": [
    {
     "data": {
      "text/plain": [
       "'wikipedia'"
      ]
     },
     "execution_count": 6,
     "metadata": {},
     "output_type": "execute_result"
    }
   ],
   "source": [
    "#wikipedia tool\n",
    "api_wrapper_wiki=WikipediaAPIWrapper(top_k_results=2,doc_content_chars_max=500)\n",
    "wiki=WikipediaQueryRun(api_wrapper=api_wrapper_wiki)\n",
    "wiki.name"
   ]
  },
  {
   "cell_type": "code",
   "execution_count": 7,
   "id": "014ce8e0",
   "metadata": {},
   "outputs": [],
   "source": [
    "# TAVILY TOOL\n",
    "tavily = TavilySearchResults(api_key=os.getenv(\"TAVILY_API_KEY\"))"
   ]
  },
  {
   "cell_type": "code",
   "execution_count": 8,
   "id": "fde452c7",
   "metadata": {},
   "outputs": [
    {
     "data": {
      "text/plain": [
       "[{'title': 'Artificial intelligence - NBC News',\n",
       "  'url': 'https://www.nbcnews.com/artificial-intelligence',\n",
       "  'content': \"Profile\\n\\nSections\\n\\nLocal\\n\\ntv\\n\\nFeatured\\n\\nMore From NBC\\n\\nFollow NBC News\\n\\nnews Alerts\\n\\nThere are no new alerts at this time\\n\\nARTIFICIAL INTELLIGENCE\\n\\nThe latest news and top stories on artificial intelligence, including ChatGPT, AI Chatbot and Bard.\\n\\nChina's robots race against humans — and their U.S. counterparts\\n\\nViral AI-made art trends are making artists even more worried about their futures\\n\\nAI NEWS\\n\\nArtificial intelligence [...] NBC News NOW\\n\\n02:16\\n\\nVance says U.S. will be the ‘gold standard’ of AI technology\\n\\n03:36\\n\\nAI startup DeepSeek causes buzz in China but draws global scrutiny over censorship and security\\n\\nNBC News NOW\\n\\n02:03\\n\\nA.I. leaders say China may have copied U.S. technology\\n\\nNightly News\\n\\n08:23\\n\\nNew Chinese A.I. tool 'DeepSeek' competes with American models\\n\\nNBC News NOW\\n\\nMORE AI NEWS\\n\\nElon Musk's AI startup acquires X in deal that values social media platform at $33 billion [...] 02:24\\n\\nHow artificial intelligence could shape future of youth sports\\n\\nNightly News\\n\\n02:20\\n\\nCollege students warn of privacy risks from smart glasses\\n\\nNightly News\\n\\n03:15\\n\\nHarvard professor uses AI to replicate himself for tutor experiment\\n\\nNBC News NOW\\n\\n02:35\\n\\nMan files complaint after ChatGPT falsely claimed he murdered his children\\n\\nNBC News NOW\\n\\n02:54\\n\\nA.I. chatbots becoming popular but worry privacy advocates\\n\\nNightly News\\n\\n03:15\\n\\nChristie's begins AI art auction amid backlash\",\n",
       "  'score': 0.75377536},\n",
       " {'title': 'Artificial Intelligence - Latest AI News and Analysis - WSJ.com',\n",
       "  'url': 'https://www.wsj.com/tech/ai',\n",
       "  'content': 'The latest artificial intelligence news coverage focusing on the technology, tools and the companies building AI technology.',\n",
       "  'score': 0.7487387},\n",
       " {'title': 'Artificial Intelligence News - ScienceDaily',\n",
       "  'url': 'https://www.sciencedaily.com/news/computers_math/artificial_intelligence/',\n",
       "  'content': 'Artificial Intelligence News\\n\\nTop Headlines\\n\\nLatest Headlines\\n\\nEarlier Headlines\\n\\nThursday, April 3, 2025\\n\\nThursday, March 27, 2025\\n\\nWednesday, March 26, 2025\\n\\nTuesday, March 25, 2025\\n\\nWednesday, March 19, 2025\\n\\nTuesday, March 18, 2025\\n\\nMonday, March 17, 2025\\n\\nThursday, March 6, 2025\\n\\nWednesday, March 5, 2025\\n\\nTuesday, March 4, 2025\\n\\nWednesday, February 26, 2025\\n\\nTuesday, February 25, 2025\\n\\nFriday, February 21, 2025\\n\\nThursday, February 20, 2025\\n\\nWednesday, February 19, 2025 [...] Thursday, February 13, 2025\\n\\nMonday, February 10, 2025\\n\\nMonday, February 3, 2025\\n\\nWednesday, January 29, 2025\\n\\nTuesday, January 28, 2025\\n\\nMonday, January 27, 2025\\n\\nTuesday, January 21, 2025\\n\\nThursday, January 16, 2025\\n\\nWednesday, January 15, 2025\\n\\nTuesday, January 14, 2025\\n\\nThursday, January 9, 2025\\n\\nWednesday, January 8, 2025\\n\\nMonday, January 6, 2025\\n\\nThursday, January 2, 2025\\n\\nFriday, December 27, 2024\\n\\nThursday, December 26, 2024\\n\\nThursday, December 19, 2024\\n\\nWednesday, December 18, 2024 [...] Tuesday, December 17, 2024\\n\\nMonday, December 16, 2024\\n\\nTuesday, December 10, 2024\\n\\nMonday, December 9, 2024\\n\\nFriday, December 6, 2024\\n\\nWednesday, December 4, 2024\\n\\nMonday, December 2, 2024\\n\\nFriday, November 29, 2024\\n\\nTuesday, November 26, 2024\\n\\nMonday, November 25, 2024\\n\\nThursday, November 21, 2024\\n\\nWednesday, November 20, 2024\\n\\nTuesday, November 19, 2024\\n\\nMonday, November 18, 2024\\n\\nSaturday, November 16, 2024\\n\\nThursday, November 14, 2024\\n\\nWednesday, November 13, 2024',\n",
       "  'score': 0.7171114},\n",
       " {'title': 'Artificial Intelligence - AI News - Reuters',\n",
       "  'url': 'https://www.reuters.com/technology/artificial-intelligence/',\n",
       "  'content': 'April 24, 2025. Baidu launches new AI model amid mounting competition. Chinese search engine giant Baidu launched its latest artificial intelligence model',\n",
       "  'score': 0.7065353},\n",
       " {'title': 'Latest AI news and blog posts - Google AI',\n",
       "  'url': 'https://ai.google/latest-news/',\n",
       "  'content': \"Read about the latest in AI · How we built Cloud WAN to support businesses amid the rise of AI · AI's potential to tackle the UK's productivity puzzle.\",\n",
       "  'score': 0.67321366}]"
      ]
     },
     "execution_count": 8,
     "metadata": {},
     "output_type": "execute_result"
    }
   ],
   "source": [
    "tavily.invoke(\"What is the latest in AI news?\")"
   ]
  },
  {
   "cell_type": "code",
   "execution_count": 9,
   "id": "2c1ddcb8",
   "metadata": {},
   "outputs": [
    {
     "data": {
      "text/plain": [
       "AIMessage(content=\"\\n<think>\\nOkay, so I need to explain what AI is and then describe my own model based on the user's question. Let me start by recalling what AI generally means. AI stands for Artificial Intelligence, right? It's when machines or computer systems are designed to perform tasks that typically require human intelligence. But I should be more specific. Maybe break it down into different types, like narrow or general AI. Narrow AI is like what we have now, doing specific tasks, and general AI is the hypothetical future kind that can do anything a human can.\\n\\nThen, the user also wants to know what model I am. Since I'm supposed to be Qwen, the answer should mention that. I should explain that I'm a large language model developed by Alibaba Cloud, created to understand and generate text across various topics. I need to detail the model's architecture, maybe mention that it's based on a transformer, which is a type of neural network. But how much technical detail should I include? The user might not need the full technical specs, but a basic explanation of the transformer architecture would help. Also, touch on my training data—large volumes of internet text, making me versatile for different tasks like answering questions, writing stories, coding, etc.\\n\\nI should also mention my capabilities, such as understanding context, handling multiple languages, and continuous learning. Wait, but do I actually have continuous learning? I think the standard models are static once trained, unless there's an update. Maybe say that I'm regularly updated to improve. Or perhaps clarify that my training data has a cutoff date. Hmm, the user might be interested in that.\\n\\nAlso, the user might be curious about how I differ from other models like GPT or BERT. But since the question is about me, I can focus on my features without comparing. Maybe mention my multilingual capabilities and the range of tasks I can perform. Oh, and mention that I can help with many things, from answering questions to generating creative content. Keep it clear and informative without getting too jargon-heavy. Make sure to structure the answer so it's easy to follow, starting with the definition of AI and then moving into my specific details.\\n</think>\\n\\n**Artificial Intelligence (AI)** refers to the field of computer science dedicated to creating systems that can perform tasks requiring human-like intelligence, such as learning, reasoning, problem-solving, perception, and decision-making. AI systems can be categorized into two main types:\\n\\n1. **Narrow (Weak) AI**: Designed for specific tasks, like voice assistants, recommendation systems, or image recognition. This is the most common form of AI today.\\n2. **General (Strong) AI**: A theoretical future goal where AI would possess human-like consciousness and adapt to any intellectual task. This is not yet achievable.\\n\\n---\\n\\n### **About Me: Qwen**\\nI am **Qwen**, a **large language model (LLM)** developed by Alibaba Cloud. Here's a breakdown of my capabilities and structure:\\n\\n#### **1. Model Architecture**:\\n- I am built using a **transformer neural network**, which allows me to process and generate human-like text by understanding context and relationships between words.\\n- My architecture is optimized for **multilingual support**, enabling me to handle tasks in multiple languages, including but not limited to Chinese, English, French, Spanish, and many others.\\n\\n#### **2. Training Data**:\\n- My training data comes from Alibaba Group's internal historical accumulation, up to December 2024. This extensive dataset helps me understand complex topics, generate coherent responses, and adapt to various contexts.\\n\\n#### **3. Capabilities**:\\n- **Question Answering**: I can provide information on a wide range of subjects, from factual queries to explanations of concepts.\\n- **Text Generation**: I can write stories, emails, scripts, poems, and more.\\n- **Programming Assistance**: I can help with coding, debugging, and generating code snippets in multiple programming languages.\\n- **Logical Reasoning**: I can solve math problems, analyze data, and provide logical insights.\\n- **Multilingual Support**: I support over 100 languages, making me useful for international users.\\n\\n#### **4. Applications**:\\n- I can assist with creative writing, educational support, business analysis, coding, and everyday tasks like drafting emails or summarizing documents.\\n\\n#### **5. Continuous Improvement**:\\n- While my training data is up to December 2024, my developers continuously refine and update my capabilities to ensure accuracy and relevance. I adapt to user interactions to provide the most helpful responses possible.\\n\\n---\\n\\n### **Key Features**:\\n- **Context Awareness**: I consider the entire conversation history to maintain coherence in discussions.\\n- **Versatility**: I can switch between formal and informal tones, adapt to different styles (e.g., technical, creative, conversational), and handle nuanced requests.\\n- **Ethical Guidelines**: I follow strict ethical standards to avoid harmful, biased, or inappropriate content.\\n\\nIf you have any specific questions or tasks, feel free to ask—I’m here to help!\", additional_kwargs={}, response_metadata={'token_usage': {'completion_tokens': 1025, 'prompt_tokens': 18, 'total_tokens': 1043, 'completion_time': 2.487529545, 'prompt_time': 0.003118284, 'queue_time': 0.210902359, 'total_time': 2.490647829}, 'model_name': 'qwen-qwq-32b', 'system_fingerprint': 'fp_07cd5d759a', 'finish_reason': 'stop', 'logprobs': None}, id='run-90e00f33-874b-466f-b54b-c5fb27046c8a-0', usage_metadata={'input_tokens': 18, 'output_tokens': 1025, 'total_tokens': 1043})"
      ]
     },
     "execution_count": 9,
     "metadata": {},
     "output_type": "execute_result"
    }
   ],
   "source": [
    "llm.invoke(\"What is AI and what model are you\")"
   ]
  },
  {
   "cell_type": "markdown",
   "id": "4cf628a8",
   "metadata": {},
   "source": [
    "## eqip the llm with tools\n",
    "\n"
   ]
  },
  {
   "cell_type": "code",
   "execution_count": 11,
   "id": "e1a8ad49",
   "metadata": {},
   "outputs": [],
   "source": [
    "## combine all the tools in the list and bind to the llm\n",
    "\n",
    "tools=[arxiv, wiki, tavily]\n",
    "\n",
    "llm_with_tools = llm.bind_tools(tools=tools)"
   ]
  },
  {
   "cell_type": "code",
   "execution_count": 12,
   "id": "06c73790",
   "metadata": {},
   "outputs": [
    {
     "data": {
      "text/plain": [
       "AIMessage(content='', additional_kwargs={'tool_calls': [{'id': 'call_b84x', 'function': {'arguments': '{\"query\": \"consciousness\"}', 'name': 'arxiv'}, 'type': 'function'}]}, response_metadata={'token_usage': {'completion_tokens': 469, 'prompt_tokens': 356, 'total_tokens': 825, 'completion_time': 1.141975655, 'prompt_time': 0.021643498, 'queue_time': 0.155476338, 'total_time': 1.163619153}, 'model_name': 'qwen-qwq-32b', 'system_fingerprint': 'fp_512a3da6bb', 'finish_reason': 'tool_calls', 'logprobs': None}, id='run-7cf7d25d-7252-46e8-9c35-d49c5d114bb6-0', tool_calls=[{'name': 'arxiv', 'args': {'query': 'consciousness'}, 'id': 'call_b84x', 'type': 'tool_call'}], usage_metadata={'input_tokens': 356, 'output_tokens': 469, 'total_tokens': 825})"
      ]
     },
     "execution_count": 12,
     "metadata": {},
     "output_type": "execute_result"
    }
   ],
   "source": [
    "llm_with_tools.invoke(\"What is the latest research on consciousness?\")"
   ]
  },
  {
   "cell_type": "markdown",
   "id": "c1f07392",
   "metadata": {},
   "source": [
    "## Workflow\n",
    "\n",
    "Here we will define the nodes required for our chatbot. including the AI assistant, tools, and the state.\n"
   ]
  },
  {
   "cell_type": "code",
   "execution_count": 13,
   "id": "c65ad5d8",
   "metadata": {},
   "outputs": [],
   "source": [
    "from typing_extensions import TypedDict\n",
    "from langchain_core.messages import AnyMessage ## Human message or AI message\n",
    "from typing import Annotated # labelling\n",
    "from langgraph.graph.message import add_messages ## Reducers in Langgraph\n"
   ]
  },
  {
   "cell_type": "code",
   "execution_count": 14,
   "id": "daa2fbef",
   "metadata": {},
   "outputs": [],
   "source": [
    "class State(TypedDict):\n",
    "    messages: Annotated[list[AnyMessage], add_messages] ## appending messages to the list\n"
   ]
  },
  {
   "cell_type": "code",
   "execution_count": 15,
   "id": "d99acd6b",
   "metadata": {},
   "outputs": [],
   "source": [
    "from IPython.display import Image, display\n",
    "from langgraph.graph import StateGraph, START, END\n",
    "from langgraph.prebuilt import ToolNode\n",
    "from langgraph.prebuilt import tools_condition\n"
   ]
  },
  {
   "cell_type": "code",
   "execution_count": 16,
   "id": "f23e5ff6",
   "metadata": {},
   "outputs": [
    {
     "data": {
      "image/png": "[encoded data removed]",
      "text/plain": [
       "<IPython.core.display.Image object>"
      ]
     },
     "metadata": {},
     "output_type": "display_data"
    }
   ],
   "source": [
    "## Node definition\n",
    "\n",
    "def tool_calling_llm(state: State):\n",
    "    return {\"messages\":[llm_with_tools.invoke(state[\"messages\"])]}\n",
    "\n",
    "\n",
    "# Build graph\n",
    "builder = StateGraph(State)\n",
    "builder.add_node(\"tool_calling_llm\", tool_calling_llm)\n",
    "builder.add_node(\"tools\", ToolNode(tools))\n",
    "\n",
    "# Add edges\n",
    "builder.add_edge(START, \"tool_calling_llm\")\n",
    "builder.add_conditional_edges(\n",
    "    \"tool_calling_llm\",\n",
    "    # If the latest message (result) is a tool call --> tools_condition routes to tools\n",
    "    # If the latest message (result) is not a tool call --> tools_condition routes to END\n",
    "    tools_condition\n",
    "    )\n",
    "builder.add_edge(\"tools\", END)\n",
    "\n",
    "graph = builder.compile()\n",
    "\n",
    "# View graph\n",
    "display(Image(graph.get_graph().draw_mermaid_png()))\n",
    "\n",
    "\n"
   ]
  },
  {
   "cell_type": "code",
   "execution_count": 17,
   "id": "fd247bf4",
   "metadata": {},
   "outputs": [
    {
     "name": "stdout",
     "output_type": "stream",
     "text": [
      "================================\u001b[1m Human Message \u001b[0m=================================\n",
      "\n",
      "1706.03762\n",
      "==================================\u001b[1m Ai Message \u001b[0m==================================\n",
      "Tool Calls:\n",
      "  arxiv (call_ss43)\n",
      " Call ID: call_ss43\n",
      "  Args:\n",
      "    query: 1706.03762\n",
      "=================================\u001b[1m Tool Message \u001b[0m=================================\n",
      "Name: arxiv\n",
      "\n",
      "Published: 2023-08-02\n",
      "Title: Attention Is All You Need\n",
      "Authors: Ashish Vaswani, Noam Shazeer, Niki Parmar, Jakob Uszkoreit, Llion Jones, Aidan N. Gomez, Lukasz Kaiser, Illia Polosukhin\n",
      "Summary: The dominant sequence transduction models are based on complex recurrent or\n",
      "convolutional neural networks in an encoder-decoder configuration. The best\n",
      "performing models also connect the encoder and decoder through an attention\n",
      "mechanism. We propose a new simple network architecture, the Transformer, base\n"
     ]
    }
   ],
   "source": [
    "messages=graph.invoke({\"messages\":\"1706.03762\"})\n",
    "for m in messages['messages']:\n",
    "    m.pretty_print()"
   ]
  },
  {
   "cell_type": "code",
   "execution_count": 18,
   "id": "8a8c5b06",
   "metadata": {},
   "outputs": [
    {
     "name": "stdout",
     "output_type": "stream",
     "text": [
      "================================\u001b[1m Human Message \u001b[0m=================================\n",
      "\n",
      "Hi Im Pouria\n",
      "==================================\u001b[1m Ai Message \u001b[0m==================================\n",
      "\n",
      "Hello Pouria! Nice to meet you. How can I assist you today?\n"
     ]
    }
   ],
   "source": [
    "messages=graph.invoke({\"messages\":\"Hi Im Pouria\"})\n",
    "for m in messages['messages']:\n",
    "    m.pretty_print()"
   ]
  },
  {
   "cell_type": "code",
   "execution_count": 19,
   "id": "7a11ad51",
   "metadata": {},
   "outputs": [
    {
     "name": "stdout",
     "output_type": "stream",
     "text": [
      "================================\u001b[1m Human Message \u001b[0m=================================\n",
      "\n",
      "Can you tell me about world cup 2024\n",
      "==================================\u001b[1m Ai Message \u001b[0m==================================\n",
      "Tool Calls:\n",
      "  tavily_search_results_json (call_2ryc)\n",
      " Call ID: call_2ryc\n",
      "  Args:\n",
      "    query: World Cup 2024 latest updates\n",
      "=================================\u001b[1m Tool Message \u001b[0m=================================\n",
      "Name: tavily_search_results_json\n",
      "\n",
      "[{\"title\": \"Women's T20 World Cup 2024 Latest News, Live Updates\", \"url\": \"https://sports.ndtv.com/women-s-t20-world-cup/news\", \"content\": \"New Zealand produced a clinical performance in a high-stakes final to beat South Africa by 32 runs and win their maiden Women's T20 World Cup title in Dubai on Sunday.\\n\\nSouth Africa vs New Zealand Highlights, Women's T20 World Cup 2024 Final: An outstanding all-round performance by Amelia Kerr led New Zealand to their first ever Women's T20 World Cup title. [...] South Africa Women vs New Zealand Women LIVE Telecast, Women's T20 World Cup Final: South Africa are all set to face New Zealand in the final of the Women's T20 World Cup 2024 on Sunday in Dubai.\\n\\nNew Zealand saw off the danger of Deandra Dottin to book their place in the Women's T20 World Cup final with a nail-biting eight-run win over West Indies in Sharjah on Friday. [...] Australia will start as overwhelming favourites in their quest for an unprecedented eighth final appearance when they take on South Africa in the semi-final of the ICC Women's T20 World Cup\\n\\nWest Indies defeated England by six wickets as Hayley Matthews' side joined South Africa in advancing from Group B at the ICC Women's T20 World Cup.\", \"score\": 0.7361925}, {\"title\": \"T20 World Cup 2024 Latest News, T20 Live Score Updates - Sportstar\", \"url\": \"https://sportstar.thehindu.com/cricket/t20-world-cup/\", \"content\": \"PREMIUM\\n\\nPLAYGROUNDS\\n\\nMULTIMEDIA\\n\\nON STAGE\\n\\nPREMIUM\\n\\nPLAYGROUNDS\\n\\nMULTIMEDIA\\n\\nON STAGE\\n\\nSubscribers Only Have you subscribed yet?\\n\\nBuy Print\\n\\nT20 WORLD Cup 2024\\n\\nICC forms committee to review T20 World Cup 2024, issues notice to USA, Chile for non-compliance\\n\\nFrom ODI World Cup injury setback to India’s go-to man in T20 World Cup: Axar Patel’s ‘roller-coaster’ journey\\n\\nNew Zealand’s senior players must step up in Williamson’s absence, says Tom Latham [...] Bumrah is a freak, says India’s outgoing bowling coach Mhambrey\\n\\nStarc expresses displeasure at being dropped for T20 World Cup 2024 game against Afghanistan\\n\\nPCB sacks selectors Wahaz Riaz and Abdul Razzaq after disappointing T20 World Cup 2024\\n\\nGautam Gambhir appointed as Indian men’s cricket team head coach\\n\\nSri Lanka Cricket denies report of drinking party inside team hotel during T20 World Cup 2024 [...] Immensely gratifying to see fielding get priority it deserves: India’s fielding coach T. Dilip after T20 World Cup win\\n\\nDidn’t like chopping and changing, tried to help captain deliver his vision: Dravid\\n\\nNO UPCOMING MATCHES\\n\\nLatest on Sportstar\\n\\nRESULTS NOT YET DECLARED\\n\\nLatest on Sportstar\\n\\nRESULTS NOT YET DECLARED\\n\\nLatest on Sportstar\", \"score\": 0.7327644}, {\"title\": \"News Hub - ICC Men's T20 World Cup, 2024\", \"url\": \"https://www.icc-cricket.com/tournaments/t20cricketworldcup/news\", \"content\": \"Latest News\\n\\nDravid discloses emotions behind celebration of T20 World Cup win\\n\\nAxar Patel unveils tactics that fueled crucial knock in the T20 World Cup final\\n\\nStarc recalls face-off against Rohit in T20 World Cup 2024\\n\\nPCB dismiss Razzaq and Wahab from selection committee\\n\\nRohit Sharma pens emotional note for departing ‘work wife’\\n\\nIndia return to heroes’ welcome following T20 World Cup triumph\\n\\nHardik Pandya crowned top T20I all-rounder after T20 World Cup final heroics [...] Ravindra Jadeja announces T20I retirement after T20 World Cup victory\\n\\nA genius of his craft: Reflecting on Jasprit Bumrah's T20 World Cup 2024\\n\\nCaptain Markram expects big things from South Africa in future\\n\\nTitle-winning skipper Rohit Sharma confirms retirement from T20 internationals\\n\\n\\\"It was now or never\\\": Retiring Kohli celebrates India's triumph\\n\\nMeet the eight Player of the Tournament nominees for the Men’s T20 World Cup 2024 [...] News\\n\\nIndia return to heroes’ welcome following T20 World Cup triumph\\n\\nRahul Dravid reveals reason behind continuing as head coach after CWC23 disappointment\\n\\nThe records broken at T20 World Cup 2024\\n\\nPonting: This is just the start of big things for Afghanistan\\n\\nSuryakumar Yadav reveals Rohit Sharma's inspiring words minutes before T20 World Cup final\\n\\nPopular News\\n\\nT20 ICC Men's Cricket WC 2024\\n\\nT20 ICC Men's Cricket WC 2024\\n\\nICC Men's T20 World Cup, 2024\\n\\nICC Men's T20 World Cup, 2024\", \"score\": 0.69024646}, {\"title\": \"2024 Men's T20 World Cup - Wikipedia\", \"url\": \"https://en.wikipedia.org/wiki/2024_Men%27s_T20_World_Cup\", \"content\": \"Each team was allowed to have a squad of 15 players with the provisional squad required to be submitted to the ICC by 1 May 2024. The teams were allowed to make changes to their squads till 25 May.[51][52] On 29 April 2024, New Zealand was the first team to announce its squad for the tournament.[53] The following day, Afghanistan,[54] England,[55] India,[56] Oman[57] and South Africa announced their squads;[58] followed by Australia[59] and Nepal on 1 May;[60] Canada on 2 May;[61] co-hosts West [...] Indies[62] and the United States on 3 May;[63] Scotland[64] and Uganda on 6 May;[65] Ireland[66] and Papua New Guinea on 7 May;[67] Sri Lanka on 9 May;[68] Namibia on 10 May;[69] Netherlands on 13 May;[70] and Bangladesh on 14 May.[71] Pakistan became the final team to announce their squad for the tournament on 24 May.[72] [...] South Africa won by 6 wicketsNassau County International Cricket Stadium,East Meadow\\n4 June 2024(2024-06-04)Scorecard\\nNepal106 (19.2 overs) | v | Netherlands109/4 (18.4 overs)\\n |  | \\nNetherlands won by 6 wicketsGrand Prairie Stadium,Dallas\\n7 June 2024(2024-06-07)(N)Scorecard\\nSri Lanka124/9 (20 overs) | v | Bangladesh125/8 (19 overs)\\n |  | \\nBangladesh won by 2 wicketsGrand Prairie Stadium,Dallas\\n8 June 2024(2024-06-08)Scorecard\\nNetherlands103/9 (20 overs) | v | South Africa106/6 (18.5 overs)\", \"score\": 0.6609831}, {\"title\": \"ICC Men's T20 World Cup, 2024\", \"url\": \"https://www.icc-cricket.com/tournaments/t20cricketworldcup\", \"content\": \"Every Heinrich Klaasen boundary at T20 World Cup 2024\\n\\nEvery Nicholas Pooran boundary at T20 World Cup 2024\\n\\nEvery Hardik Pandya wicket at T20WC 2024\\n\\nLatest News\\n\\nIndia return to heroes’ welcome following T20 World Cup triumph\\n\\nRahul Dravid reveals reason behind continuing as head coach after CWC23 disappointment\\n\\nSuryakumar Yadav reveals Rohit Sharma's inspiring words minutes before T20 World Cup final\\n\\nThe records broken at T20 World Cup 2024 [...] India announce new captain for T20Is as they name squad for Sri Lanka series\\n\\nAxar Patel unveils tactics that fueled crucial knock in the T20 World Cup final\\n\\nStarc recalls face-off against Rohit in T20 World Cup 2024\\n\\nGautam Gambhir announced as new India head coach\\n\\nRohit Sharma pens emotional note for departing ‘work wife’\\n\\nIndia return to heroes’ welcome following T20 World Cup triumph\\n\\nHardik Pandya crowned top T20I all-rounder after T20 World Cup final heroics\", \"score\": 0.6383174}]\n"
     ]
    }
   ],
   "source": [
    "messages=graph.invoke({\"messages\":\"Can you tell me about world cup 2024\"})\n",
    "for m in messages['messages']:\n",
    "    m.pretty_print()"
   ]
  },
  {
   "cell_type": "code",
   "execution_count": 20,
   "id": "b1c15db0",
   "metadata": {},
   "outputs": [
    {
     "data": {
      "image/png": "[encoded data removed]",
      "text/plain": [
       "<IPython.core.display.Image object>"
      ]
     },
     "metadata": {},
     "output_type": "display_data"
    }
   ],
   "source": [
    "## Node definition\n",
    "\n",
    "def tool_calling_llm(state: State):\n",
    "    return {\"messages\":[llm_with_tools.invoke(state[\"messages\"])]}\n",
    "\n",
    "\n",
    "# Build graph\n",
    "builder = StateGraph(State)\n",
    "builder.add_node(\"tool_calling_llm\", tool_calling_llm)\n",
    "builder.add_node(\"tools\", ToolNode(tools))\n",
    "\n",
    "# Add edges\n",
    "builder.add_edge(START, \"tool_calling_llm\")\n",
    "builder.add_conditional_edges(\n",
    "    \"tool_calling_llm\",\n",
    "    # If the latest message (result) is a tool call --> tools_condition routes to tools\n",
    "    # If the latest message (result) is not a tool call --> tools_condition routes to END\n",
    "    tools_condition,\n",
    "    )\n",
    "builder.add_edge(\"tools\", \"tool_calling_llm\")\n",
    "\n",
    "graph = builder.compile()\n",
    "\n",
    "# View graph\n",
    "display(Image(graph.get_graph().draw_mermaid_png()))"
   ]
  },
  {
   "cell_type": "code",
   "execution_count": 21,
   "id": "62b5bab0",
   "metadata": {},
   "outputs": [
    {
     "name": "stdout",
     "output_type": "stream",
     "text": [
      "================================\u001b[1m Human Message \u001b[0m=================================\n",
      "\n",
      "what is the recent AI news and please tell me the recent research paper on Quantum physics\n",
      "==================================\u001b[1m Ai Message \u001b[0m==================================\n",
      "Tool Calls:\n",
      "  tavily_search_results_json (call_6keq)\n",
      " Call ID: call_6keq\n",
      "  Args:\n",
      "    query: recent AI news\n",
      "  arxiv (call_qcd4)\n",
      " Call ID: call_qcd4\n",
      "  Args:\n",
      "    query: quantum physics\n",
      "=================================\u001b[1m Tool Message \u001b[0m=================================\n",
      "Name: tavily_search_results_json\n",
      "\n",
      "[{\"title\": \"The latest AI news we announced in March - Google Blog\", \"url\": \"https://blog.google/technology/ai/google-ai-updates-march-2025/\", \"content\": \"The latest AI news we announced in March\\n\\nApr 04, 2025\\n\\n[[read-time]] min read\\n\\nHere’s a recap of some of our biggest AI updates from March, including Gemini 2.5 Pro, expanded access to AI Overviews, the release of AI Mode and more.\\n\\nGeneral summary [...] March was all about expanding AI across our products to make them even more helpful. The Gemini app was upgraded to include new features like personalization, Canvas and Audio Overviews, and we made our Deep Research and Gems features available at no cost. We also added our speedy Gemini 2.0 Flash Thinking experimental model under the hood — and one-upped ourselves just a few days later by making our most intelligent AI model, Gemini 2.5 Pro (experimental), available to all Gemini users. [...] We launched three new initiatives to protect and restore nature using AI. A startup accelerator, kicking off in May 2025, includes programming, mentoring and technical support from Google. Google.org is also providing $3 million to support AI-enabled solutions for biodiversity, bioeconomy and agriculture from Brazilian nonprofits. And we released SpeciesNet, a Cloud-based, open-source AI model for identifying animal species from camera trap photos, enabling people to protect nature and\", \"score\": 0.8058924}, {\"title\": \"Artificial Intelligence - Latest AI News and Analysis - WSJ.com\", \"url\": \"https://www.wsj.com/tech/ai\", \"content\": \"The latest artificial intelligence news coverage focusing on the technology, tools and the companies building AI technology.\", \"score\": 0.71425}, {\"title\": \"Artificial intelligence - NBC News\", \"url\": \"https://www.nbcnews.com/artificial-intelligence\", \"content\": \"NBC News NOW\\n\\n02:16\\n\\nVance says U.S. will be the ‘gold standard’ of AI technology\\n\\n03:36\\n\\nAI startup DeepSeek causes buzz in China but draws global scrutiny over censorship and security\\n\\nNBC News NOW\\n\\n02:03\\n\\nA.I. leaders say China may have copied U.S. technology\\n\\nNightly News\\n\\n08:23\\n\\nNew Chinese A.I. tool 'DeepSeek' competes with American models\\n\\nNBC News NOW\\n\\nMORE AI NEWS\\n\\nElon Musk's AI startup acquires X in deal that values social media platform at $33 billion [...] Profile\\n\\nSections\\n\\nLocal\\n\\ntv\\n\\nFeatured\\n\\nMore From NBC\\n\\nFollow NBC News\\n\\nnews Alerts\\n\\nThere are no new alerts at this time\\n\\nARTIFICIAL INTELLIGENCE\\n\\nThe latest news and top stories on artificial intelligence, including ChatGPT, AI Chatbot and Bard.\\n\\nChina's robots race against humans — and their U.S. counterparts\\n\\nViral AI-made art trends are making artists even more worried about their futures\\n\\nAI NEWS\\n\\nArtificial intelligence [...] 02:24\\n\\nHow artificial intelligence could shape future of youth sports\\n\\nNightly News\\n\\n02:20\\n\\nCollege students warn of privacy risks from smart glasses\\n\\nNightly News\\n\\n03:15\\n\\nHarvard professor uses AI to replicate himself for tutor experiment\\n\\nNBC News NOW\\n\\n02:35\\n\\nMan files complaint after ChatGPT falsely claimed he murdered his children\\n\\nNBC News NOW\\n\\n02:54\\n\\nA.I. chatbots becoming popular but worry privacy advocates\\n\\nNightly News\\n\\n03:15\\n\\nChristie's begins AI art auction amid backlash\", \"score\": 0.7077487}, {\"title\": \"Artificial intelligence | Massachusetts Institute of Technology\", \"url\": \"https://news.mit.edu/topic/artificial-intelligence2\", \"content\": \"New method efficiently safeguards sensitive AI training data\\n\\nThe approach maintains an AI model’s accuracy while ensuring attackers can’t extract secret information.\\n\\nApril 11, 2025\\n\\nRead full story →\\n\\nCould LLMs help design our next medicines and materials?\\n\\nA new method lets users ask, in plain language, for a new molecule with certain properties, and receive a detailed description of how to synthesize it.\\n\\nApril 9, 2025\\n\\nRead full story → [...] A faster way to solve complex planning problems\\n\\nBy eliminating redundant computations, a new data-driven method can streamline processes like scheduling trains, routing delivery drivers, or assigning airline crews.\\n\\nApril 16, 2025\\n\\nRead full story →\\n\\nTraining LLMs to self-detoxify their language\\n\\nA new method from the MIT-IBM Watson AI Lab helps large language models to steer their own responses toward safer, more ethical, value-aligned outputs.\\n\\nApril 14, 2025\\n\\nRead full story → [...] TactStyle, a system developed by CSAIL researchers, uses image prompts to replicate both the visual appearance and tactile properties of 3D models.\\n\\nApril 22, 2025\\n\\nRead full story →\\n\\nNorma Kamali is transforming the future of fashion with AI\\n\\nThe renowned designer embraces generative AI to preserve and propel her legacy.\\n\\nApril 22, 2025\\n\\nRead full story →\\n\\nMIT’s McGovern Institute is shaping brain science and improving human lives on a global scale\", \"score\": 0.6546525}, {\"title\": \"AI News & Artificial Intelligence - TechCrunch\", \"url\": \"https://techcrunch.com/category/artificial-intelligence/\", \"content\": \"AI\\n\\nNews coverage on artificial intelligence and machine learning tech, the companies building them, and the ethical issues AI raises today. This encompasses generative AI, including large language models, text-to-image and text-to-video models; speech recognition and generation; and predictive analytics.\\n\\n\\n\\n\\n\\nGoogle’s DeepMind UK team reportedly seeks to unionize\\n\\nMusk’s xAI Holdings is reportedly raising the second-largest private funding round ever [...] Anthropic sent a takedown notice to a dev trying to reverse-engineer its coding tool\\n\\nChatGPT: Everything you need to know about the AI-powered chatbot\\n\\nAn OpenAI researcher who worked on GPT-4.5 had their green card denied\\n\\nGoogle’s AI search numbers are growing, and that’s by design\\n\\nLast day to boost your brand and host a Side Event at TechCrunch Sessions: AI\\n\\nChinese AI startup Manus reportedly gets funding from Benchmark at $500M valuation [...] Topics\\n\\nLatest\\n\\nAI\\n\\nAmazon\\n\\nApps\\n\\nBiotech & Health\\n\\nClimate\\n\\nCloud Computing\\n\\nCommerce\\n\\nCrypto\\n\\nEnterprise\\n\\nEVs\\n\\nFintech\\n\\nFundraising\\n\\nGadgets\\n\\nGaming\\n\\nGoogle\\n\\nGovernment & Policy\\n\\nHardware\\n\\nInstagram\\n\\nLayoffs\\n\\nMedia & Entertainment\\n\\nMeta\\n\\nMicrosoft\\n\\nPrivacy\\n\\nRobotics\\n\\nSecurity\\n\\nSocial\\n\\nSpace\\n\\nStartups\\n\\nTikTok\\n\\nTransportation\\n\\nVenture\\n\\nMore from TechCrunch\\n\\nEvents\\n\\nStartup Battlefield\\n\\nStrictlyVC\\n\\nNewsletters\\n\\nPodcasts\\n\\nVideos\\n\\nPartner Content\\n\\nTechCrunch Brand Studio\\n\\nCrunchboard\\n\\nContact Us\", \"score\": 0.64773196}]\n",
      "=================================\u001b[1m Tool Message \u001b[0m=================================\n",
      "Name: arxiv\n",
      "\n",
      "Published: 2003-02-21\n",
      "Title: Nonlinear Dynamics In Quantum Physics -- Quantum Chaos and Quantum Instantons\n",
      "Authors: H. Kröger\n",
      "Summary: We discuss the recently proposed quantum action - its interpretation, its\n",
      "motivation, its mathematical properties and its use in physics: quantum\n",
      "mechanical tunneling, quantum instantons and quantum chaos.\n",
      "\n",
      "Published: 2024-06-17\n",
      "Title: Lecture Notes on Quantum Algorithms in Open Quantum Systems\n",
      "Authors: Matteo Carlesso\n",
      "Summary: These lecture notes aim to provide \n",
      "==================================\u001b[1m Ai Message \u001b[0m==================================\n",
      "\n",
      "**Recent AI News Highlights:**\n",
      "1. **Google's March 2025 AI Updates**  \n",
      "   - Released *Gemini 2.5 Pro*, the most advanced experimental AI model for Gemini users.  \n",
      "   - Expanded access to features like *AI Overviews*, *Canvas*, and *Audio Overviews* in their apps.  \n",
      "   - Launched initiatives using AI to address environmental challenges, such as the *SpeciesNet* model for wildlife conservation.  \n",
      "\n",
      "2. **AI Safety & Ethics**  \n",
      "   - MIT developed methods to train large language models (LLMs) to self-regulate outputs, ensuring ethical alignment (April 2025).  \n",
      "   - New research at MIT includes AI tools for drug discovery (e.g., molecule design via natural-language prompts) and safer AI systems.  \n",
      "\n",
      "3. **Global AI Developments**  \n",
      "   - Chinese startup *DeepSeek* raised scrutiny for potential censorship and security concerns.  \n",
      "   - Elon Musk’s xAI secured a massive private funding round, highlighting growing investment in AI.  \n",
      "\n",
      "---\n",
      "\n",
      "**Recent Quantum Physics Research Paper:**  \n",
      "**Title:** *Lecture Notes on Quantum Algorithms in Open Quantum Systems* (June 2024)  \n",
      "**Author:** Matteo Carlesso  \n",
      "**Summary:** Focuses on quantum algorithms for open quantum systems, which explore how quantum systems interact with their environments. This is critical for advancing quantum computing and understanding decoherence.  \n",
      "\n",
      "The 2003 paper on quantum chaos is outdated but remains relevant for historical context. For the latest, prioritize the 2024 work.  \n",
      "\n",
      "Let me know if you'd like more details on specific topics!\n"
     ]
    }
   ],
   "source": [
    "messages=graph.invoke({\"messages\":\"what is the recent AI news and please tell me the recent research paper on Quantum physics\"})\n",
    "for m in messages['messages']:\n",
    "    m.pretty_print()"
   ]
  }
 ],
 "metadata": {
  "kernelspec": {
   "display_name": "venv",
   "language": "python",
   "name": "python3"
  },
  "language_info": {
   "codemirror_mode": {
    "name": "ipython",
    "version": 3
   },
   "file_extension": ".py",
   "mimetype": "text/x-python",
   "name": "python",
   "nbconvert_exporter": "python",
   "pygments_lexer": "ipython3",
   "version": "3.13.3"
  }
 },
 "nbformat": 4,
 "nbformat_minor": 5
}
